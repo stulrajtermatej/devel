{
 "cells": [
  {
   "cell_type": "code",
   "execution_count": null,
   "id": "furnished-confusion",
   "metadata": {},
   "outputs": [],
   "source": [
    "# Stulrajter Matej Task Manager\n",
    "\n",
    "#Euro area (EA11-1999, EA12-2001, EA13-2007, EA15-2008, EA16-2009, EA17-2011, EA18-2014, EA19-2015) \n",
    "\n",
    "#http://ec.europa.eu/eurostat/wdds/rest/data/v2.1/json/en/prc_hicp_midx?precision=2&geo=EA&unit=I15&coicop=CP00\n",
    "#https://appsso.eurostat.ec.europa.eu/nui/show.do?dataset=prc_hicp_midx&lang=en\n",
    "\n",
    "#https://ec.europa.eu/eurostat/web/json-and-unicode-web-services/getting-started/query-builder\n",
    "#https://ec.europa.eu/eurostat/web/main/data/database"
   ]
  },
  {
   "cell_type": "code",
   "execution_count": null,
   "id": "difficult-partnership",
   "metadata": {},
   "outputs": [],
   "source": [
    "import requests\n",
    "r=requests.get(\"http://ec.europa.eu/eurostat/wdds/rest/data/v2.1/json/en/prc_hicp_midx?precision=2&geo=EA&unit=I15&coicop=CP00\")\n",
    "r.text"
   ]
  },
  {
   "cell_type": "code",
   "execution_count": null,
   "id": "blind-program",
   "metadata": {},
   "outputs": [],
   "source": []
  }
 ],
 "metadata": {
  "kernelspec": {
   "display_name": "Python 3",
   "language": "python",
   "name": "python3"
  },
  "language_info": {
   "codemirror_mode": {
    "name": "ipython",
    "version": 3
   },
   "file_extension": ".py",
   "mimetype": "text/x-python",
   "name": "python",
   "nbconvert_exporter": "python",
   "pygments_lexer": "ipython3",
   "version": "3.8.5"
  }
 },
 "nbformat": 4,
 "nbformat_minor": 5
}
