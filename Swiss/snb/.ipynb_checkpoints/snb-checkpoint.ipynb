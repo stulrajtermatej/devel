{
 "cells": [
  {
   "cell_type": "code",
   "execution_count": null,
   "id": "certain-sharp",
   "metadata": {},
   "outputs": [],
   "source": [
    "def snb(table):\n",
    "    import pandas as pd\n",
    "    import requests, io\n",
    "\n",
    "    r=requests.get(\"https://data.snb.ch/api/cube/\"+table+\"/data/csv/en\")\n",
    "\n",
    "    with open('temp.csv', 'wb') as f:\n",
    "        f.write(r.content)\n",
    "    #read file as string\n",
    "    #sting.replace('\"','')\n",
    "    #save to temp.csv\n",
    "    #try:\n",
    "    #    import os\n",
    "    #    os.remove(\"temp.csv\")\n",
    "    #except:\n",
    "    #    pass\n",
    "    # or skip savig if you can it will run faster\n",
    "    \n",
    "    return r.text\n"
   ]
  },
  {
   "cell_type": "code",
   "execution_count": null,
   "id": "adjacent-detector",
   "metadata": {},
   "outputs": [],
   "source": [
    "#snb(table=\"snboffzisa\") # D0\n",
    "#snb(table=\"bopcapbalq\") # D0 D1"
   ]
  },
  {
   "cell_type": "code",
   "execution_count": null,
   "id": "sapphire-explorer",
   "metadata": {},
   "outputs": [],
   "source": []
  }
 ],
 "metadata": {
  "kernelspec": {
   "display_name": "Python 3",
   "language": "python",
   "name": "python3"
  },
  "language_info": {
   "codemirror_mode": {
    "name": "ipython",
    "version": 3
   },
   "file_extension": ".py",
   "mimetype": "text/x-python",
   "name": "python",
   "nbconvert_exporter": "python",
   "pygments_lexer": "ipython3",
   "version": "3.8.5"
  }
 },
 "nbformat": 4,
 "nbformat_minor": 5
}
