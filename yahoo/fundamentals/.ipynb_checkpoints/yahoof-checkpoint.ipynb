{
 "cells": [
  {
   "cell_type": "code",
   "execution_count": 8,
   "id": "spectacular-house",
   "metadata": {},
   "outputs": [],
   "source": [
    "def yf(ticker=None,q=None): #http://theautomatic.net/2020/05/05/how-to-download-fundamentals-data-with-python/\n",
    "    import yahoo_fin.stock_info as si\n",
    "    import pandas as pd\n",
    "    quote = si.get_quote_table(ticker)\n",
    "    return quote"
   ]
  },
  {
   "cell_type": "code",
   "execution_count": 9,
   "id": "tutorial-myrtle",
   "metadata": {},
   "outputs": [
    {
     "data": {
      "text/plain": [
       "{'1y Target Est': 151.75,\n",
       " '52 Week Range': '53.15 - 145.09',\n",
       " 'Ask': '124.90 x 900',\n",
       " 'Avg. Volume': 104560095.0,\n",
       " 'Beta (5Y Monthly)': 1.27,\n",
       " 'Bid': '124.89 x 800',\n",
       " \"Day's Range\": '122.23 - 125.35',\n",
       " 'EPS (TTM)': 3.69,\n",
       " 'Earnings Date': 'Apr 28, 2021 - May 03, 2021',\n",
       " 'Ex-Dividend Date': 'Feb 05, 2021',\n",
       " 'Forward Dividend & Yield': '0.82 (0.65%)',\n",
       " 'Market Cap': '2.093T',\n",
       " 'Open': 124.94,\n",
       " 'PE Ratio (TTM)': 33.82,\n",
       " 'Previous Close': 125.86,\n",
       " 'Quote Price': 124.66000366210938,\n",
       " 'Volume': 75703585.0}"
      ]
     },
     "execution_count": 9,
     "metadata": {},
     "output_type": "execute_result"
    }
   ],
   "source": [
    "yf(ticker=\"aapl\")"
   ]
  },
  {
   "cell_type": "code",
   "execution_count": 11,
   "id": "sunset-beach",
   "metadata": {},
   "outputs": [],
   "source": [
    "from yahoofinancials import YahooFinancials #https://pypi.org/project/yahoofinancials/\n",
    "\n",
    "tech_stocks = ['AAPL', 'MSFT', 'INTC']\n",
    "bank_stocks = ['WFC', 'BAC', 'C']\n",
    "commodity_futures = ['GC=F', 'SI=F', 'CL=F']\n",
    "cryptocurrencies = ['BTC-USD', 'ETH-USD', 'XRP-USD']\n",
    "currencies = ['EURUSD=X', 'JPY=X', 'GBPUSD=X']\n",
    "mutual_funds = ['PRLAX', 'QASGX', 'HISFX']\n",
    "us_treasuries = ['^TNX', '^IRX', '^TYX']\n",
    "yahoo_financials_tech = YahooFinancials(tech_stocks)\n",
    "yahoo_financials_banks = YahooFinancials(bank_stocks)\n",
    "yahoo_financials_commodities = YahooFinancials(commodity_futures)\n",
    "yahoo_financials_cryptocurrencies = YahooFinancials(cryptocurrencies)\n",
    "yahoo_financials_currencies = YahooFinancials(currencies)\n",
    "yahoo_financials_mutualfunds = YahooFinancials(mutual_funds)\n",
    "yahoo_financials_treasuries = YahooFinancials(us_treasuries)\n",
    "\n",
    "tech_cash_flow_data_an = yahoo_financials_tech.get_financial_stmts('annual', 'cash')\n",
    "bank_cash_flow_data_an = yahoo_financials_banks.get_financial_stmts('annual', 'cash')\n",
    "\n",
    "banks_net_ebit = yahoo_financials_banks.get_ebit()\n",
    "tech_stock_price_data = yahoo_financials_tech.get_stock_price_data()\n",
    "daily_bank_stock_prices = yahoo_financials_banks.get_historical_price_data('2008-09-15', '2018-09-15', 'daily')\n",
    "daily_commodity_prices = yahoo_financials_commodities.get_historical_price_data('2008-09-15', '2018-09-15', 'daily')\n",
    "daily_crypto_prices = yahoo_financials_cryptocurrencies.get_historical_price_data('2008-09-15', '2018-09-15', 'daily')\n",
    "daily_currency_prices = yahoo_financials_currencies.get_historical_price_data('2008-09-15', '2018-09-15', 'daily')\n",
    "daily_mutualfund_prices = yahoo_financials_mutualfunds.get_historical_price_data('2008-09-15', '2018-09-15', 'daily')\n",
    "daily_treasury_prices = yahoo_financials_treasuries.get_historical_price_data('2008-09-15', '2018-09-15', 'daily')\n",
    "\n",
    "\n",
    "\n",
    "\n",
    "#get_interest_expense()\n",
    "#get_operating_income()\n",
    "#get_total_operating_expense()\n",
    "#get_total_revenue()\n",
    "#get_cost_of_revenue()\n",
    "#get_income_before_tax()\n",
    "#get_income_tax_expense()\n",
    "#get_gross_profit()\n",
    "#get_net_income_from_continuing_ops()\n",
    "#get_research_and_development()\n",
    "#get_current_price()\n",
    "#get_current_change()\n",
    "#get_current_percent_change()\n",
    "#get_current_volume()\n",
    "#get_prev_close_price()\n",
    "#get_open_price()\n",
    "#get_ten_day_avg_daily_volume()\n",
    "#get_three_month_avg_daily_volume()\n",
    "#get_stock_exchange()\n",
    "#get_market_cap()\n",
    "#get_daily_low()\n",
    "#get_daily_high()\n",
    "#get_currency()\n",
    "#get_yearly_high()\n",
    "#get_yearly_low()\n",
    "#get_dividend_yield()\n",
    "#get_annual_avg_div_yield()\n",
    "#get_five_yr_avg_div_yield()\n",
    "#get_dividend_rate()\n",
    "#get_annual_avg_div_rate()\n",
    "#get_50day_moving_avg()\n",
    "#get_200day_moving_avg()\n",
    "#get_beta()\n",
    "#get_payout_ratio()\n",
    "#get_pe_ratio()\n",
    "#get_price_to_sales()\n",
    "#get_exdividend_date()\n",
    "#get_book_value()\n",
    "#get_ebit()\n",
    "#get_net_income()\n",
    "#get_earnings_per_share()\n",
    "#get_key_statistics_data()\n",
    "\n",
    "\n",
    "\n"
   ]
  },
  {
   "cell_type": "code",
   "execution_count": 12,
   "id": "adolescent-enough",
   "metadata": {},
   "outputs": [
    {
     "name": "stdout",
     "output_type": "stream",
     "text": [
      "{'cashflowStatementHistoryQuarterly': {'C': [{'2020-12-31': {'netIncome': 4632000000, 'changeToLiabilities': 0}}, {'2020-09-30': {'investments': -6211000000, 'changeToLiabilities': 0, 'totalCashflowsFromInvestingActivities': 8489000000, 'netBorrowings': -19308000000, 'totalCashFromFinancingActivities': 8309000000, 'changeToOperatingActivities': -23363000000, 'netIncome': 3230000000, 'changeInCash': 13922000000, 'repurchaseOfStock': -1000000, 'effectOfExchangeRate': 170000000, 'totalCashFromOperatingActivities': -3046000000, 'depreciation': 1033000000, 'otherCashflowsFromInvestingActivities': 26000000, 'dividendsPaid': -1345000000, 'otherCashflowsFromFinancingActivities': 28963000000, 'changeToNetincome': 1966000000, 'capitalExpenditures': -982000000}}, {'2020-06-30': {'investments': -52926000000, 'changeToLiabilities': 0, 'totalCashflowsFromInvestingActivities': -18832000000, 'netBorrowings': -11069000000, 'totalCashFromFinancingActivities': 36365000000, 'changeToOperatingActivities': -5720000000, 'netIncome': 1316000000, 'changeInCash': 23853000000, 'repurchaseOfStock': -1000000, 'effectOfExchangeRate': -5000000, 'totalCashFromOperatingActivities': 6325000000, 'depreciation': 926000000, 'otherCashflowsFromInvestingActivities': 26000000, 'dividendsPaid': -1314000000, 'otherCashflowsFromFinancingActivities': 48749000000, 'changeToNetincome': 7131000000, 'capitalExpenditures': -858000000}}, {'2020-03-31': {'investments': -46270000000, 'changeToLiabilities': 0, 'totalCashflowsFromInvestingActivities': -72857000000, 'netBorrowings': 81733000000, 'totalCashFromFinancingActivities': 191358000000, 'changeToOperatingActivities': 53251000000, 'netIncome': 2522000000, 'changeInCash': 92001000000, 'repurchaseOfStock': -3331000000, 'effectOfExchangeRate': -967000000, 'totalCashFromOperatingActivities': -25533000000, 'depreciation': 927000000, 'otherCashflowsFromInvestingActivities': 18000000, 'dividendsPaid': -1365000000, 'otherCashflowsFromFinancingActivities': 114321000000, 'changeToNetincome': 6642000000, 'capitalExpenditures': -460000000}}]}}\n"
     ]
    }
   ],
   "source": [
    "yahoo_financials = YahooFinancials('C')\n",
    "print(yahoo_financials.get_financial_stmts('quarterly', 'cash'))"
   ]
  },
  {
   "cell_type": "code",
   "execution_count": 13,
   "id": "equivalent-transition",
   "metadata": {},
   "outputs": [
    {
     "name": "stdout",
     "output_type": "stream",
     "text": [
      "{'balanceSheetHistory': {'AAPL': [{'2020-09-26': {'totalLiab': 258549000000, 'totalStockholderEquity': 65339000000, 'otherCurrentLiab': 47867000000, 'totalAssets': 323888000000, 'commonStock': 50779000000, 'otherCurrentAssets': 11264000000, 'retainedEarnings': 14966000000, 'otherLiab': 46108000000, 'treasuryStock': -406000000, 'otherAssets': 33952000000, 'cash': 38016000000, 'totalCurrentLiabilities': 105392000000, 'shortLongTermDebt': 8773000000, 'otherStockholderEquity': -406000000, 'propertyPlantEquipment': 45336000000, 'totalCurrentAssets': 143713000000, 'longTermInvestments': 100887000000, 'netTangibleAssets': 65339000000, 'shortTermInvestments': 52927000000, 'netReceivables': 37445000000, 'longTermDebt': 98667000000, 'inventory': 4061000000, 'accountsPayable': 42296000000}}, {'2019-09-28': {'totalLiab': 248028000000, 'totalStockholderEquity': 90488000000, 'otherCurrentLiab': 43242000000, 'totalAssets': 338516000000, 'commonStock': 45174000000, 'otherCurrentAssets': 12352000000, 'retainedEarnings': 45898000000, 'otherLiab': 50503000000, 'treasuryStock': -584000000, 'otherAssets': 32978000000, 'cash': 48844000000, 'totalCurrentLiabilities': 105718000000, 'shortLongTermDebt': 10260000000, 'otherStockholderEquity': -584000000, 'propertyPlantEquipment': 37378000000, 'totalCurrentAssets': 162819000000, 'longTermInvestments': 105341000000, 'netTangibleAssets': 90488000000, 'shortTermInvestments': 51713000000, 'netReceivables': 45804000000, 'longTermDebt': 91807000000, 'inventory': 4106000000, 'accountsPayable': 46236000000}}, {'2018-09-29': {'totalLiab': 258578000000, 'totalStockholderEquity': 107147000000, 'otherCurrentLiab': 39293000000, 'totalAssets': 365725000000, 'commonStock': 40201000000, 'otherCurrentAssets': 12087000000, 'retainedEarnings': 70400000000, 'otherLiab': 48914000000, 'treasuryStock': -3454000000, 'otherAssets': 22283000000, 'cash': 25913000000, 'totalCurrentLiabilities': 115929000000, 'shortLongTermDebt': 8784000000, 'otherStockholderEquity': -3454000000, 'propertyPlantEquipment': 41304000000, 'totalCurrentAssets': 131339000000, 'longTermInvestments': 170799000000, 'netTangibleAssets': 107147000000, 'shortTermInvestments': 40388000000, 'netReceivables': 48995000000, 'longTermDebt': 93735000000, 'inventory': 3956000000, 'accountsPayable': 55888000000}}, {'2017-09-30': {'totalLiab': 241272000000, 'totalStockholderEquity': 134047000000, 'otherCurrentLiab': 38099000000, 'totalAssets': 375319000000, 'commonStock': 35867000000, 'otherCurrentAssets': 13936000000, 'retainedEarnings': 98330000000, 'otherLiab': 43251000000, 'treasuryStock': -150000000, 'otherAssets': 18177000000, 'cash': 20289000000, 'totalCurrentLiabilities': 100814000000, 'shortLongTermDebt': 6496000000, 'otherStockholderEquity': -150000000, 'propertyPlantEquipment': 33783000000, 'totalCurrentAssets': 128645000000, 'longTermInvestments': 194714000000, 'netTangibleAssets': 134047000000, 'shortTermInvestments': 53892000000, 'netReceivables': 35673000000, 'longTermDebt': 97207000000, 'inventory': 4855000000, 'accountsPayable': 44242000000}}]}}\n"
     ]
    }
   ],
   "source": [
    "yahoo_financials = YahooFinancials('AAPL')\n",
    "print(yahoo_financials.get_financial_stmts('annual', 'balance'))"
   ]
  },
  {
   "cell_type": "code",
   "execution_count": null,
   "id": "convenient-draft",
   "metadata": {},
   "outputs": [],
   "source": []
  }
 ],
 "metadata": {
  "kernelspec": {
   "display_name": "Python 3",
   "language": "python",
   "name": "python3"
  },
  "language_info": {
   "codemirror_mode": {
    "name": "ipython",
    "version": 3
   },
   "file_extension": ".py",
   "mimetype": "text/x-python",
   "name": "python",
   "nbconvert_exporter": "python",
   "pygments_lexer": "ipython3",
   "version": "3.8.5"
  }
 },
 "nbformat": 4,
 "nbformat_minor": 5
}
